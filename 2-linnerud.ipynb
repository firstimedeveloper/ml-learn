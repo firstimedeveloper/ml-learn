{
 "cells": [
  {
   "cell_type": "markdown",
   "id": "6217b284",
   "metadata": {},
   "source": [
    "The Linnerud dataset is a multi-output regression dataset that consists of three exercise (data) and three physiological (target) variables collected from twenty middle-aged men in a fitness club.\n",
    "\n",
    "The three exercise variables:\n",
    "Chins, Situps, Jumps\n",
    "\n",
    "The three target, physiological variables:\n",
    "Weight, Waist, Pulse"
   ]
  },
  {
   "cell_type": "code",
   "execution_count": 58,
   "id": "5a11c94f",
   "metadata": {},
   "outputs": [],
   "source": [
    "import matplotlib.pyplot as plt\n",
    "import numpy as np\n",
    "from sklearn import datasets, linear_model, model_selection"
   ]
  },
  {
   "cell_type": "code",
   "execution_count": 59,
   "id": "92e73e35",
   "metadata": {},
   "outputs": [
    {
     "name": "stdout",
     "output_type": "stream",
     "text": [
      "(20, 3)\n",
      "[  5. 162.  60.]\n",
      "[191.  36.  50.]\n"
     ]
    }
   ],
   "source": [
    "X, y = datasets.load_linnerud(return_X_y=True)\n",
    "print(X.shape)\n",
    "print(X[0])\n",
    "print(y[0])"
   ]
  },
  {
   "cell_type": "code",
   "execution_count": 60,
   "id": "3f102a0d",
   "metadata": {},
   "outputs": [
    {
     "name": "stdout",
     "output_type": "stream",
     "text": [
      "[[ 5.]\n",
      " [ 2.]\n",
      " [12.]\n",
      " [12.]\n",
      " [13.]\n",
      " [ 4.]\n",
      " [ 8.]\n",
      " [ 6.]\n",
      " [15.]\n",
      " [17.]\n",
      " [17.]\n",
      " [13.]\n",
      " [14.]\n",
      " [ 1.]\n",
      " [ 6.]\n",
      " [12.]\n",
      " [ 4.]\n",
      " [11.]\n",
      " [15.]\n",
      " [ 2.]]\n"
     ]
    }
   ],
   "source": [
    "X_Chins = X[:, np.newaxis, 0]\n",
    "X_Situps = X[:, np.newaxis, 1]\n",
    "X_Jumps = X[:, np.newaxis, 2]\n",
    "print(X_Chins)"
   ]
  },
  {
   "cell_type": "code",
   "execution_count": 61,
   "id": "ed7b83cd",
   "metadata": {},
   "outputs": [],
   "source": [
    "y_Weight = y[:, np.newaxis, 0]\n",
    "y_Waist = y[:, np.newaxis, 1]\n",
    "y_Pulse = y[:, np.newaxis, 2]"
   ]
  },
  {
   "cell_type": "markdown",
   "id": "66f23ef3",
   "metadata": {},
   "source": [
    "Relationship between the waistline and how many situps are accomplished:\n",
    "\n",
    "Changing the X and y variables in the line below, we can see the relationships between other data points and targets."
   ]
  },
  {
   "cell_type": "code",
   "execution_count": 62,
   "id": "625d9f61",
   "metadata": {},
   "outputs": [],
   "source": [
    "X_train, X_test, y_train, y_test = model_selection.train_test_split(X_Situps, y_Waist, test_size=0.33)"
   ]
  },
  {
   "cell_type": "code",
   "execution_count": 63,
   "id": "29c4f232",
   "metadata": {},
   "outputs": [
    {
     "data": {
      "image/png": "[encoded data removed]",
      "text/plain": [
       "<Figure size 432x288 with 1 Axes>"
      ]
     },
     "metadata": {
      "needs_background": "light"
     },
     "output_type": "display_data"
    }
   ],
   "source": [
    "model = linear_model.LinearRegression()\n",
    "model.fit(X_train, y_train)\n",
    "\n",
    "y_pred = model.predict(X_test)\n",
    "\n",
    "plt.scatter(X_test, y_test, color='black')\n",
    "plt.plot(X_test, y_pred, color='blue', linewidth=3)\n",
    "plt.show()"
   ]
  },
  {
   "cell_type": "markdown",
   "id": "7fb91f2a",
   "metadata": {},
   "source": [
    "There is a downward slope, meaning those with a higher waistline were able to do less situps than those with a lower waistline."
   ]
  }
 ],
 "metadata": {
  "kernelspec": {
   "display_name": "Python 3 (ipykernel)",
   "language": "python",
   "name": "python3"
  },
  "language_info": {
   "codemirror_mode": {
    "name": "ipython",
    "version": 3
   },
   "file_extension": ".py",
   "mimetype": "text/x-python",
   "name": "python",
   "nbconvert_exporter": "python",
   "pygments_lexer": "ipython3",
   "version": "3.8.10"
  }
 },
 "nbformat": 4,
 "nbformat_minor": 5
}
