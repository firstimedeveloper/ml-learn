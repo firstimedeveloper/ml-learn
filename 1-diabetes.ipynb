{
 "cells": [
  {
   "cell_type": "code",
   "execution_count": 41,
   "id": "a3c9aa49",
   "metadata": {},
   "outputs": [],
   "source": [
    "import matplotlib.pyplot as plt\n",
    "import numpy as np\n",
    "from sklearn import datasets, linear_model, model_selection"
   ]
  },
  {
   "cell_type": "code",
   "execution_count": 42,
   "id": "d3c8a6f3",
   "metadata": {
    "scrolled": true
   },
   "outputs": [
    {
     "name": "stdout",
     "output_type": "stream",
     "text": [
      "(442, 10)\n",
      "[[ 0.03807591  0.05068012  0.06169621  0.02187235 -0.0442235  -0.03482076\n",
      "  -0.04340085 -0.00259226  0.01990842 -0.01764613]\n",
      " [-0.00188202 -0.04464164 -0.05147406 -0.02632783 -0.00844872 -0.01916334\n",
      "   0.07441156 -0.03949338 -0.06832974 -0.09220405]]\n"
     ]
    }
   ],
   "source": [
    "X, y = datasets.load_diabetes(return_X_y=True)\n",
    "print(X.shape)\n",
    "print(X[:2])"
   ]
  },
  {
   "cell_type": "markdown",
   "id": "4f8c8d58",
   "metadata": {},
   "source": [
    "Using the built-in diabetes dataset.\n",
    "X has 442 elements, where each element is an array of 10 elements. Each of the 10 elements in the arrays are the features from the diabetes dataset. \n",
    "- age\n",
    "- sex\n",
    "- bmi\n",
    "- bp, avg blood pressure\n",
    "- s1 tc, total serum cholesterol\n",
    "- s2 ldl, low-density lipoproteins\n",
    "- s3 hdl, high-density lipoproteins\n",
    "- s4 tch, total chloesterol / HDL\n",
    "- s5 ltg, possibly log of serum triglycerides level\n",
    "- s6 glu, blood sugar level"
   ]
  },
  {
   "cell_type": "code",
   "execution_count": 43,
   "id": "5475cd29",
   "metadata": {},
   "outputs": [
    {
     "name": "stdout",
     "output_type": "stream",
     "text": [
      "[[ 0.06169621]\n",
      " [-0.05147406]]\n"
     ]
    }
   ],
   "source": [
    "X = X[:, np.newaxis, 2]\n",
    "print(X[:2])"
   ]
  },
  {
   "cell_type": "markdown",
   "id": "5a060d54",
   "metadata": {},
   "source": [
    "Remember that X is an array of arrays, where each array contains 10 elements.\n",
    "The above command looks at one column (in the above example, index 2, meaning the third column, or 'feature').\n",
    "What we want to do is to get the third element in each of the 442 arrays, and put them into one giant array.\n",
    "So X is reassigned to an array that contains one array with the data from the third column, which denotes the bmi of the patient."
   ]
  },
  {
   "cell_type": "code",
   "execution_count": 44,
   "id": "f2173870",
   "metadata": {},
   "outputs": [],
   "source": [
    "X_train, X_test, y_train, y_test = model_selection.train_test_split(X, y, test_size=0.33)"
   ]
  },
  {
   "cell_type": "markdown",
   "id": "2a83722f",
   "metadata": {},
   "source": [
    "The above command splits the dataset for training and testing."
   ]
  },
  {
   "cell_type": "code",
   "execution_count": 45,
   "id": "49883bac",
   "metadata": {},
   "outputs": [
    {
     "data": {
      "text/plain": [
       "LinearRegression()"
      ]
     },
     "execution_count": 45,
     "metadata": {},
     "output_type": "execute_result"
    }
   ],
   "source": [
    "model = linear_model.LinearRegression()\n",
    "model.fit(X_train, y_train)"
   ]
  },
  {
   "cell_type": "markdown",
   "id": "a77ed57d",
   "metadata": {},
   "source": [
    "We create a Linear Regression model using the training data we split in the previous command.\n",
    "Next, we use the training dataset to train the model using the function `model.fit()`"
   ]
  },
  {
   "cell_type": "code",
   "execution_count": 46,
   "id": "d00c91b4",
   "metadata": {},
   "outputs": [],
   "source": [
    "y_pred = model.predict(X_test)"
   ]
  },
  {
   "cell_type": "markdown",
   "id": "984d0ce2",
   "metadata": {},
   "source": [
    "We create a prediction using the test data."
   ]
  },
  {
   "cell_type": "code",
   "execution_count": 47,
   "id": "40ddea66",
   "metadata": {},
   "outputs": [
    {
     "data": {
      "image/png": "[encoded data removed]",
      "text/plain": [
       "<Figure size 432x288 with 1 Axes>"
      ]
     },
     "metadata": {
      "needs_background": "light"
     },
     "output_type": "display_data"
    }
   ],
   "source": [
    "plt.scatter(X_test, y_test, color='black')\n",
    "plt.plot(X_test, y_pred, color='blue', linewidth=3)\n",
    "plt.show()"
   ]
  },
  {
   "cell_type": "markdown",
   "id": "514152d3",
   "metadata": {},
   "source": [
    "Using matplotlib, we are able to visualize the scattered test data and the prediction we made using our Linear Regression model. \n",
    "\n",
    "We can therefore infer from the graph above, that there is a positive relationship between bmi and diabetes"
   ]
  }
 ],
 "metadata": {
  "kernelspec": {
   "display_name": "Python 3 (ipykernel)",
   "language": "python",
   "name": "python3"
  },
  "language_info": {
   "codemirror_mode": {
    "name": "ipython",
    "version": 3
   },
   "file_extension": ".py",
   "mimetype": "text/x-python",
   "name": "python",
   "nbconvert_exporter": "python",
   "pygments_lexer": "ipython3",
   "version": "3.8.10"
  }
 },
 "nbformat": 4,
 "nbformat_minor": 5
}
